{
 "cells": [
  {
   "cell_type": "markdown",
   "metadata": {},
   "source": [
    "<h1><center>  DATA SCIENCE PROJECT </center></h1>\n",
    "<center> Kristjan Pekk, Pärt Alango, Yaiza Rubio Chavida </center>\n",
    "<center> University of Tartu </center>"
   ]
  },
  {
   "cell_type": "markdown",
   "metadata": {},
   "source": [
    "<h1><center>  HIV ANALYSIS </center></h1>\n",
    "<center>Study of HIV epidemiology indicators and treatments for children and adolescents.</center>\n"
   ]
  },
  {
   "cell_type": "markdown",
   "metadata": {},
   "source": [
    "The two datasets used in this project were taken from: https://data.unicef.org/resources/dataset/hiv-aids-statistical-tables/.\n",
    "To get better results for our project, we removed some data from the original datasets to have only the data needed to achieve our goals."
   ]
  },
  {
   "cell_type": "markdown",
   "metadata": {},
   "source": [
    "<center> </center>"
   ]
  },
  {
   "cell_type": "markdown",
   "metadata": {},
   "source": [
    "First of all, we analyzed a dataset with HIV indicators from children and adolescents, depending on the continent, sex, age(0-19) and the year (1990-2019). \n",
    "\n",
    "To do this analysis we transformed the original dataset to a csv file. Then, we reduce it to study years from 2010 to 2019 and ages from 0-14, because we have no data about previous years and ages in the second dataset, so we couldn´t compare them. We also saw that some columns were not very useful for our analysis, so we eliminated them as well as incomplete rows. \n",
    "\n",
    "We cleaned most of the data changing different parameters in the following code and we exported it as a new csv file. \n"
   ]
  },
  {
   "cell_type": "code",
   "execution_count": 1,
   "metadata": {},
   "outputs": [],
   "source": [
    "import pandas as pd\n",
    "import numpy as np\n",
    "import matplotlib.pyplot as plt\n",
    "import seaborn as sns\n",
    "from seaborn import scatterplot\n",
    "pd.options.mode.chained_assignment = None  # default='warn' | for disposing of unneccesary errors\n",
    "#indicators=pd.read_csv(\"Epidemiology.csv\", sep=\";\", encoding='latin-1')\n",
    "#indicators.drop(indicators.loc[indicators['Year']==1990].index, inplace=True)\n",
    "#indicators.drop(indicators.loc[indicators['Age']!='Age 0-14'].index, inplace=True)\n",
    "#indicators.drop(\"UNICEF Region\", axis=1, inplace=True)\n",
    "#indicators.to_csv(\"Tests.csv\", index=False, encoding='utf8')"
   ]
  },
  {
   "cell_type": "markdown",
   "metadata": {},
   "source": [
    "To have the data more separated, we divided this new csv file into two:\n",
    "- AnnualDeaths.csv  (Estimated number of annual AIDS-related deaths of children 0-14 depending on country, sex and year (2010-2019))\n",
    "- AnnualNewInfections.csv   (Estimated number of annual new HIV infections of children 0-14 depending on country, sex and year(2010-2019))"
   ]
  },
  {
   "cell_type": "code",
   "execution_count": null,
   "metadata": {},
   "outputs": [],
   "source": []
  },
  {
   "cell_type": "code",
   "execution_count": 2,
   "metadata": {},
   "outputs": [
    {
     "name": "stdout",
     "output_type": "stream",
     "text": [
      "(2970, 6)\n"
     ]
    },
    {
     "data": {
      "text/html": [
       "<div>\n",
       "<style scoped>\n",
       "    .dataframe tbody tr th:only-of-type {\n",
       "        vertical-align: middle;\n",
       "    }\n",
       "\n",
       "    .dataframe tbody tr th {\n",
       "        vertical-align: top;\n",
       "    }\n",
       "\n",
       "    .dataframe thead th {\n",
       "        text-align: right;\n",
       "    }\n",
       "</style>\n",
       "<table border=\"1\" class=\"dataframe\">\n",
       "  <thead>\n",
       "    <tr style=\"text-align: right;\">\n",
       "      <th></th>\n",
       "      <th>Country/Region</th>\n",
       "      <th>Year</th>\n",
       "      <th>Sex</th>\n",
       "      <th>Value</th>\n",
       "      <th>Lower</th>\n",
       "      <th>Upper</th>\n",
       "    </tr>\n",
       "  </thead>\n",
       "  <tbody>\n",
       "    <tr>\n",
       "      <th>0</th>\n",
       "      <td>Global</td>\n",
       "      <td>2010</td>\n",
       "      <td>Both</td>\n",
       "      <td>220</td>\n",
       "      <td>150</td>\n",
       "      <td>360</td>\n",
       "    </tr>\n",
       "    <tr>\n",
       "      <th>1</th>\n",
       "      <td>Global</td>\n",
       "      <td>2010</td>\n",
       "      <td>Female</td>\n",
       "      <td>110</td>\n",
       "      <td>73</td>\n",
       "      <td>180</td>\n",
       "    </tr>\n",
       "    <tr>\n",
       "      <th>2</th>\n",
       "      <td>Global</td>\n",
       "      <td>2010</td>\n",
       "      <td>Male</td>\n",
       "      <td>110</td>\n",
       "      <td>75</td>\n",
       "      <td>180</td>\n",
       "    </tr>\n",
       "    <tr>\n",
       "      <th>3</th>\n",
       "      <td>Global</td>\n",
       "      <td>2011</td>\n",
       "      <td>Both</td>\n",
       "      <td>200</td>\n",
       "      <td>130</td>\n",
       "      <td>330</td>\n",
       "    </tr>\n",
       "    <tr>\n",
       "      <th>4</th>\n",
       "      <td>Global</td>\n",
       "      <td>2011</td>\n",
       "      <td>Female</td>\n",
       "      <td>97</td>\n",
       "      <td>65</td>\n",
       "      <td>160</td>\n",
       "    </tr>\n",
       "  </tbody>\n",
       "</table>\n",
       "</div>"
      ],
      "text/plain": [
       "  Country/Region  Year     Sex Value Lower Upper\n",
       "0         Global  2010    Both   220   150   360\n",
       "1         Global  2010  Female   110    73   180\n",
       "2         Global  2010    Male   110    75   180\n",
       "3         Global  2011    Both   200   130   330\n",
       "4         Global  2011  Female    97    65   160"
      ]
     },
     "execution_count": 2,
     "metadata": {},
     "output_type": "execute_result"
    }
   ],
   "source": [
    "deaths=pd.read_csv(\"AnnualDeaths.csv\", sep=\",\", encoding='latin-1')\n",
    "print(deaths.shape)\n",
    "deaths.head()"
   ]
  },
  {
   "cell_type": "code",
   "execution_count": 3,
   "metadata": {},
   "outputs": [],
   "source": [
    "#Deaths: rows 1-31: certain values\n",
    "#        rows ... : \n",
    "\n",
    "\n",
    "#converting data \"VALUE\" to numeric, where applicable\n",
    "i = 0\n",
    "for val in deaths[\"Value\"]:\n",
    "    try:\n",
    "        deaths[\"Value\"][i] = int(val)\n",
    "    except ValueError:\n",
    "        #todo: compute mean by upper&lower, use for replacing values with \"<\"\n",
    "        if val.startswith(\"<\"):\n",
    "            deaths[\"Value\"][i] = int(val[1:]) - 1 #remove \"<\" and deacrease by 1\n",
    "        else:\n",
    "            deaths[\"Value\"][i] = float(val.replace(\",\",\".\"))\n",
    "    i+=1\n",
    "#todo: same for upper and lower\n",
    "i=0\n",
    "for val in deaths[\"Upper\"]:\n",
    "    try:\n",
    "        deaths[\"Upper\"][i] = int(val)\n",
    "    except ValueError:\n",
    "        if val.startswith(\"<\"):\n",
    "            deaths[\"Upper\"][i] = int(val[1:]) - 1 #remove \"<\" and deacrease by 1\n",
    "        else:\n",
    "            deaths[\"Upper\"][i] = float(val.replace(\",\",\".\"))\n",
    "    i+=1\n",
    "i=0\n",
    "for val in deaths[\"Lower\"]:\n",
    "    try:\n",
    "        deaths[\"Lower\"][i] = int(val)\n",
    "    except ValueError:\n",
    "        #todo: compute mean by upper&lower, use for replacing values with \"<\"\n",
    "        if val.startswith(\"<\"):\n",
    "            deaths[\"Lower\"][i] = int(val[1:]) - 1 #remove \"<\" and deacrease by 1\n",
    "        else:\n",
    "            deaths[\"Lower\"][i] = float(val.replace(\",\",\".\"))\n",
    "    i+=1\n",
    "#todo optimize\n"
   ]
  },
  {
   "cell_type": "code",
   "execution_count": 4,
   "metadata": {},
   "outputs": [
    {
     "name": "stdout",
     "output_type": "stream",
     "text": [
      "averages, rows 1-30\n",
      "Male  Female  Both\n",
      "72.7 | 71.1 | 72.75\n"
     ]
    }
   ],
   "source": [
    "vals = deaths[\"Value\"][:30]\n",
    "genders = deaths[\"Sex\"][:30]\n",
    "\n",
    "total_M, count_M = 0,0\n",
    "total_F, count_F = 0,0\n",
    "total_B, count_B = 0,0\n",
    "\n",
    "i = 0\n",
    "for v in vals:\n",
    "    if genders[i] == \"Male\":\n",
    "        total_M += int(v)\n",
    "        count_M += 1\n",
    "    elif genders[i] == \"Female\":\n",
    "        total_F += int(v)\n",
    "        count_F += 1\n",
    "    else:\n",
    "        total_B += int(v)\n",
    "        count_B += 1\n",
    "    i+=1\n",
    "    \n",
    "print(\"averages, rows 1-30\")\n",
    "print(\"Male  Female  Both\")       \n",
    "print(str(total_M/count_M) + \" | \" + str(total_F/count_F) + \" | \" + str((total_B/count_B) / 2))\n",
    "    \n"
   ]
  },
  {
   "cell_type": "code",
   "execution_count": 5,
   "metadata": {},
   "outputs": [
    {
     "data": {
      "image/png": "[encoded data removed]",
      "text/plain": [
       "<Figure size 432x288 with 1 Axes>"
      ]
     },
     "metadata": {
      "needs_background": "light"
     },
     "output_type": "display_data"
    }
   ],
   "source": [
    "from numpy import histogram as hist\n",
    "#hist(vals)\n",
    "hist = deaths[:30][\"Value\"].hist(bins = 50)\n",
    "#deaths[\"Value\"][:100].value_counts().sort_index().plot(kind=\"bar\")"
   ]
  },
  {
   "cell_type": "code",
   "execution_count": null,
   "metadata": {},
   "outputs": [],
   "source": []
  },
  {
   "cell_type": "code",
   "execution_count": 6,
   "metadata": {},
   "outputs": [
    {
     "name": "stdout",
     "output_type": "stream",
     "text": [
      "deaths - still need better representation\n"
     ]
    },
    {
     "data": {
      "image/png": "[encoded data removed]",
      "text/plain": [
       "<Figure size 720x720 with 1 Axes>"
      ]
     },
     "metadata": {
      "needs_background": "light"
     },
     "output_type": "display_data"
    }
   ],
   "source": [
    "#todo - drop or modify weird rows\n",
    "\n",
    "#----------------------\n",
    "print(\"deaths - still need better representation\")\n",
    "plt.rcParams['figure.figsize'] = [10, 10]\n",
    "sns.scatterplot('Upper', 'Lower', data=deaths, hue='Sex')\n",
    "plt.show()"
   ]
  },
  {
   "cell_type": "code",
   "execution_count": 7,
   "metadata": {},
   "outputs": [
    {
     "name": "stdout",
     "output_type": "stream",
     "text": [
      "(2940, 6)\n"
     ]
    },
    {
     "data": {
      "text/html": [
       "<div>\n",
       "<style scoped>\n",
       "    .dataframe tbody tr th:only-of-type {\n",
       "        vertical-align: middle;\n",
       "    }\n",
       "\n",
       "    .dataframe tbody tr th {\n",
       "        vertical-align: top;\n",
       "    }\n",
       "\n",
       "    .dataframe thead th {\n",
       "        text-align: right;\n",
       "    }\n",
       "</style>\n",
       "<table border=\"1\" class=\"dataframe\">\n",
       "  <thead>\n",
       "    <tr style=\"text-align: right;\">\n",
       "      <th></th>\n",
       "      <th>Country/Region</th>\n",
       "      <th>Year</th>\n",
       "      <th>Sex</th>\n",
       "      <th>Value</th>\n",
       "      <th>Lower</th>\n",
       "      <th>Upper</th>\n",
       "    </tr>\n",
       "  </thead>\n",
       "  <tbody>\n",
       "    <tr>\n",
       "      <th>0</th>\n",
       "      <td>Global</td>\n",
       "      <td>2010</td>\n",
       "      <td>Both</td>\n",
       "      <td>310</td>\n",
       "      <td>200</td>\n",
       "      <td>500</td>\n",
       "    </tr>\n",
       "    <tr>\n",
       "      <th>1</th>\n",
       "      <td>Global</td>\n",
       "      <td>2010</td>\n",
       "      <td>Female</td>\n",
       "      <td>150</td>\n",
       "      <td>97</td>\n",
       "      <td>240</td>\n",
       "    </tr>\n",
       "    <tr>\n",
       "      <th>2</th>\n",
       "      <td>Global</td>\n",
       "      <td>2010</td>\n",
       "      <td>Male</td>\n",
       "      <td>160</td>\n",
       "      <td>100</td>\n",
       "      <td>250</td>\n",
       "    </tr>\n",
       "    <tr>\n",
       "      <th>3</th>\n",
       "      <td>Global</td>\n",
       "      <td>2011</td>\n",
       "      <td>Both</td>\n",
       "      <td>270</td>\n",
       "      <td>170</td>\n",
       "      <td>430</td>\n",
       "    </tr>\n",
       "    <tr>\n",
       "      <th>4</th>\n",
       "      <td>Global</td>\n",
       "      <td>2011</td>\n",
       "      <td>Female</td>\n",
       "      <td>130</td>\n",
       "      <td>85</td>\n",
       "      <td>210</td>\n",
       "    </tr>\n",
       "  </tbody>\n",
       "</table>\n",
       "</div>"
      ],
      "text/plain": [
       "  Country/Region  Year     Sex Value Lower Upper\n",
       "0         Global  2010    Both   310   200   500\n",
       "1         Global  2010  Female   150    97   240\n",
       "2         Global  2010    Male   160   100   250\n",
       "3         Global  2011    Both   270   170   430\n",
       "4         Global  2011  Female   130    85   210"
      ]
     },
     "execution_count": 7,
     "metadata": {},
     "output_type": "execute_result"
    }
   ],
   "source": [
    "infections=pd.read_csv(\"AnnualNewInfections.csv\", sep=\",\", encoding='latin-1')\n",
    "print(infections.shape)\n",
    "infections.head()"
   ]
  },
  {
   "cell_type": "markdown",
   "metadata": {},
   "source": [
    "Our UNICEF second dataset contained the percentage and the numbers of children(0-14 years) with HIV recieving ART treatment. In this dataset we had different indicators, some of them were the number of children, and the other ones were represented\n",
    "by percentage. So we realized we couldn´t mix the values to get good results. To solve this problem we joined data as shown below. In this way, we simplify a lot the original data due to most of the information was twice. "
   ]
  },
  {
   "cell_type": "code",
   "execution_count": 8,
   "metadata": {},
   "outputs": [
    {
     "name": "stdout",
     "output_type": "stream",
     "text": [
      "(930, 7)\n"
     ]
    },
    {
     "data": {
      "text/html": [
       "<div>\n",
       "<style scoped>\n",
       "    .dataframe tbody tr th:only-of-type {\n",
       "        vertical-align: middle;\n",
       "    }\n",
       "\n",
       "    .dataframe tbody tr th {\n",
       "        vertical-align: top;\n",
       "    }\n",
       "\n",
       "    .dataframe thead th {\n",
       "        text-align: right;\n",
       "    }\n",
       "</style>\n",
       "<table border=\"1\" class=\"dataframe\">\n",
       "  <thead>\n",
       "    <tr style=\"text-align: right;\">\n",
       "      <th></th>\n",
       "      <th>Country</th>\n",
       "      <th>Region</th>\n",
       "      <th>Year</th>\n",
       "      <th>Percentage</th>\n",
       "      <th>Lower</th>\n",
       "      <th>Upper</th>\n",
       "      <th>Number</th>\n",
       "    </tr>\n",
       "  </thead>\n",
       "  <tbody>\n",
       "    <tr>\n",
       "      <th>0</th>\n",
       "      <td>Afghanistan</td>\n",
       "      <td>South Asia</td>\n",
       "      <td>2010</td>\n",
       "      <td>&lt;1</td>\n",
       "      <td>&lt;1</td>\n",
       "      <td>1.8</td>\n",
       "      <td>0</td>\n",
       "    </tr>\n",
       "    <tr>\n",
       "      <th>1</th>\n",
       "      <td>Afghanistan</td>\n",
       "      <td>South Asia</td>\n",
       "      <td>2011</td>\n",
       "      <td>1.8</td>\n",
       "      <td>&lt;1</td>\n",
       "      <td>4.3</td>\n",
       "      <td>10</td>\n",
       "    </tr>\n",
       "    <tr>\n",
       "      <th>2</th>\n",
       "      <td>Afghanistan</td>\n",
       "      <td>South Asia</td>\n",
       "      <td>2012</td>\n",
       "      <td>2.0</td>\n",
       "      <td>&lt;1</td>\n",
       "      <td>4.7</td>\n",
       "      <td>10</td>\n",
       "    </tr>\n",
       "    <tr>\n",
       "      <th>3</th>\n",
       "      <td>Afghanistan</td>\n",
       "      <td>South Asia</td>\n",
       "      <td>2013</td>\n",
       "      <td>3.4</td>\n",
       "      <td>1.7</td>\n",
       "      <td>8.1</td>\n",
       "      <td>10</td>\n",
       "    </tr>\n",
       "    <tr>\n",
       "      <th>4</th>\n",
       "      <td>Afghanistan</td>\n",
       "      <td>South Asia</td>\n",
       "      <td>2014</td>\n",
       "      <td>4.6</td>\n",
       "      <td>2.2</td>\n",
       "      <td>11.1</td>\n",
       "      <td>20</td>\n",
       "    </tr>\n",
       "  </tbody>\n",
       "</table>\n",
       "</div>"
      ],
      "text/plain": [
       "       Country      Region  Year Percentage Lower Upper Number\n",
       "0  Afghanistan  South Asia  2010         <1    <1   1.8      0\n",
       "1  Afghanistan  South Asia  2011        1.8    <1   4.3     10\n",
       "2  Afghanistan  South Asia  2012        2.0    <1   4.7     10\n",
       "3  Afghanistan  South Asia  2013        3.4   1.7   8.1     10\n",
       "4  Afghanistan  South Asia  2014        4.6   2.2  11.1     20"
      ]
     },
     "execution_count": 8,
     "metadata": {},
     "output_type": "execute_result"
    }
   ],
   "source": [
    "treatments=pd.read_csv(\"Treatment.csv\", sep=\";\", encoding='latin-1')\n",
    "print(treatments.shape)\n",
    "treatments.head()"
   ]
  },
  {
   "cell_type": "markdown",
   "metadata": {},
   "source": [
    "Finally, we separated one dataset to get one with analysis divided in 7 regions. These regions are: Eastern and Southern Africa, Sub-Saharan Africa, East and North Africa, Latin America and Caribbean, Middle  South Asia, East Asia and Pacific, West and Central Africa with values of years from 2010-2019."
   ]
  },
  {
   "cell_type": "code",
   "execution_count": 9,
   "metadata": {},
   "outputs": [
    {
     "name": "stdout",
     "output_type": "stream",
     "text": [
      "(80, 6)\n"
     ]
    },
    {
     "data": {
      "image/png": "[encoded data removed]",
      "text/plain": [
       "<Figure size 720x720 with 1 Axes>"
      ]
     },
     "metadata": {
      "needs_background": "light"
     },
     "output_type": "display_data"
    }
   ],
   "source": [
    "regions=pd.read_csv(\"Global.csv\", sep=\";\", encoding='latin-1', header=None, names= [\"Region\",\"Year\",\"Percentage\",\"Lower\",\"Upper\", \"Number\"])\n",
    "print(regions.shape)\n",
    "regions.head()\n",
    "#still need to work on that graph\n",
    "plt.rcParams['figure.figsize'] = [10, 10]\n",
    "sns.scatterplot('Upper', 'Lower', data=regions, hue='Region')\n",
    "plt.show()"
   ]
  },
  {
   "cell_type": "markdown",
   "metadata": {},
   "source": [
    "<center> Thank you </center>"
   ]
  }
 ],
 "metadata": {
  "kernelspec": {
   "display_name": "Python 3",
   "language": "python",
   "name": "python3"
  },
  "language_info": {
   "codemirror_mode": {
    "name": "ipython",
    "version": 3
   },
   "file_extension": ".py",
   "mimetype": "text/x-python",
   "name": "python",
   "nbconvert_exporter": "python",
   "pygments_lexer": "ipython3",
   "version": "3.8.3"
  }
 },
 "nbformat": 4,
 "nbformat_minor": 4
}

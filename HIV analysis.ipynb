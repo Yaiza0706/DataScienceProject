{
 "cells": [
  {
   "cell_type": "markdown",
   "metadata": {},
   "source": [
    "<h1><center>  DATA SCIENCE PROJECT </center></h1>\n",
    "<center> Kristjan Pekk, Pärt Alango, Yaiza Rubio Chavida </center>\n",
    "<center> University of Tartu </center>"
   ]
  },
  {
   "cell_type": "markdown",
   "metadata": {},
   "source": [
    "<h1><center>  VIH ANALYSIS </center></h1>\n",
    "<center>Study of HIV epidemiology indicators and treatments for children and adolescents.</center>\n"
   ]
  },
  {
   "cell_type": "markdown",
   "metadata": {},
   "source": [
    "Dataset with HIV indicators from children and adolescents, depending on the continent, sex, age(0-19) and the year (1990-2019), provided by UNICEF."
   ]
  },
  {
   "cell_type": "markdown",
   "metadata": {},
   "source": [
    "Dataset with the coverage of antiretroviral treatment (ART) among children(0-14 years) with HIV."
   ]
  },
  {
   "cell_type": "markdown",
   "metadata": {},
   "source": [
    "All the datasets used in this project were taken from:  https://data.unicef.org/resources/dataset/hiv-aids-statistical-tables/"
   ]
  },
  {
   "cell_type": "code",
   "execution_count": null,
   "metadata": {},
   "outputs": [],
   "source": []
  }
 ],
 "metadata": {
  "kernelspec": {
   "display_name": "Python 3",
   "language": "python",
   "name": "python3"
  },
  "language_info": {
   "codemirror_mode": {
    "name": "ipython",
    "version": 3
   },
   "file_extension": ".py",
   "mimetype": "text/x-python",
   "name": "python",
   "nbconvert_exporter": "python",
   "pygments_lexer": "ipython3",
   "version": "3.8.5"
  }
 },
 "nbformat": 4,
 "nbformat_minor": 4
}

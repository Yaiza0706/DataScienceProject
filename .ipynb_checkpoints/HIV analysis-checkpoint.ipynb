{
 "cells": [
  {
   "cell_type": "markdown",
   "metadata": {},
   "source": [
    "<h1><center>  DATA SCIENCE PROJECT </center></h1>\n",
    "<center> Kristjan Pekk, Pärt Alango, Yaiza Rubio Chavida </center>\n",
    "<center> University of Tartu </center>"
   ]
  },
  {
   "cell_type": "markdown",
   "metadata": {},
   "source": [
    "<h1><center>  HIV ANALYSIS </center></h1>\n",
    "<center>Study of HIV epidemiology indicators and treatments for children and adolescents.</center>\n"
   ]
  },
  {
   "cell_type": "markdown",
   "metadata": {},
   "source": [
    "<center> The two datasets used in this project were taken from: https://data.unicef.org/resources/dataset/hiv-aids-statistical-tables/. </center>\n",
    "    \n",
    "    \n",
    "<center> To get better results for our project, we removed some data from the original datasets to have only the data needed to achieve our goals. </center>"
   ]
  },
  {
   "cell_type": "markdown",
   "metadata": {},
   "source": [
    "<center> </center>"
   ]
  },
  {
   "cell_type": "code",
   "execution_count": 29,
   "metadata": {},
   "outputs": [],
   "source": [
    "import pandas as pd\n",
    "import numpy as np\n",
    "import matplotlib.pyplot as plt\n",
    "import seaborn as sns\n",
    "from seaborn import scatterplot\n",
    "import random\n",
    "pd.options.mode.chained_assignment = None  # default='warn' | for disposing of unneccesary errors"
   ]
  },
  {
   "cell_type": "markdown",
   "metadata": {},
   "source": [
    "First of all, we analyzed a dataset with HIV indicators from children and adolescents, depending on the continent, sex, age(0-19) and the year (1990-2019). \n",
    "\n",
    "We realized that our datasets have dots for decimal separators and comma for the thousand values. Moreover, it includes some values without dots and commas. After trying lots of different ideas, we finally change commas in the original dataset to single space before converting it to a csv file. We made this change because we had many problems when plotting and converting values.\n",
    "\n",
    "Then, we reduce it to study years from 2010 to 2019 and ages from 0-14, because we have no data about previous years and ages in the second dataset, so we couldn´t compare them. We also saw that some columns were not very useful for our analysis, so we eliminated them as well as incomplete rows. \n"
   ]
  },
  {
   "cell_type": "code",
   "execution_count": 30,
   "metadata": {},
   "outputs": [
    {
     "data": {
      "text/plain": [
       "(240428, 12)"
      ]
     },
     "execution_count": 30,
     "metadata": {},
     "output_type": "execute_result"
    }
   ],
   "source": [
    "indicators=pd.read_csv(\"Epidemiology.csv\" ,sep=\";\", encoding='latin-1', )\n",
    "indicators.shape"
   ]
  },
  {
   "cell_type": "code",
   "execution_count": 31,
   "metadata": {},
   "outputs": [
    {
     "name": "stdout",
     "output_type": "stream",
     "text": [
      "(14820, 7)\n"
     ]
    },
    {
     "data": {
      "text/html": [
       "<div>\n",
       "<style scoped>\n",
       "    .dataframe tbody tr th:only-of-type {\n",
       "        vertical-align: middle;\n",
       "    }\n",
       "\n",
       "    .dataframe tbody tr th {\n",
       "        vertical-align: top;\n",
       "    }\n",
       "\n",
       "    .dataframe thead th {\n",
       "        text-align: right;\n",
       "    }\n",
       "</style>\n",
       "<table border=\"1\" class=\"dataframe\">\n",
       "  <thead>\n",
       "    <tr style=\"text-align: right;\">\n",
       "      <th></th>\n",
       "      <th>Country/Region</th>\n",
       "      <th>Indicator</th>\n",
       "      <th>Year</th>\n",
       "      <th>Sex</th>\n",
       "      <th>Value</th>\n",
       "      <th>Lower</th>\n",
       "      <th>Upper</th>\n",
       "    </tr>\n",
       "  </thead>\n",
       "  <tbody>\n",
       "    <tr>\n",
       "      <th>120</th>\n",
       "      <td>Global</td>\n",
       "      <td>Estimated incidence rate (new HIV infection pe...</td>\n",
       "      <td>2010</td>\n",
       "      <td>Both</td>\n",
       "      <td>0.49</td>\n",
       "      <td>0.31</td>\n",
       "      <td>0.77</td>\n",
       "    </tr>\n",
       "    <tr>\n",
       "      <th>122</th>\n",
       "      <td>Global</td>\n",
       "      <td>Estimated incidence rate (new HIV infection pe...</td>\n",
       "      <td>2010</td>\n",
       "      <td>Female</td>\n",
       "      <td>0.50</td>\n",
       "      <td>0.31</td>\n",
       "      <td>0.78</td>\n",
       "    </tr>\n",
       "    <tr>\n",
       "      <th>124</th>\n",
       "      <td>Global</td>\n",
       "      <td>Estimated incidence rate (new HIV infection pe...</td>\n",
       "      <td>2010</td>\n",
       "      <td>Male</td>\n",
       "      <td>0.48</td>\n",
       "      <td>0.30</td>\n",
       "      <td>0.76</td>\n",
       "    </tr>\n",
       "    <tr>\n",
       "      <th>126</th>\n",
       "      <td>Global</td>\n",
       "      <td>Estimated incidence rate (new HIV infection pe...</td>\n",
       "      <td>2011</td>\n",
       "      <td>Both</td>\n",
       "      <td>0.42</td>\n",
       "      <td>0.27</td>\n",
       "      <td>0.67</td>\n",
       "    </tr>\n",
       "    <tr>\n",
       "      <th>128</th>\n",
       "      <td>Global</td>\n",
       "      <td>Estimated incidence rate (new HIV infection pe...</td>\n",
       "      <td>2011</td>\n",
       "      <td>Female</td>\n",
       "      <td>0.43</td>\n",
       "      <td>0.27</td>\n",
       "      <td>0.68</td>\n",
       "    </tr>\n",
       "  </tbody>\n",
       "</table>\n",
       "</div>"
      ],
      "text/plain": [
       "    Country/Region                                          Indicator  Year  \\\n",
       "120         Global  Estimated incidence rate (new HIV infection pe...  2010   \n",
       "122         Global  Estimated incidence rate (new HIV infection pe...  2010   \n",
       "124         Global  Estimated incidence rate (new HIV infection pe...  2010   \n",
       "126         Global  Estimated incidence rate (new HIV infection pe...  2011   \n",
       "128         Global  Estimated incidence rate (new HIV infection pe...  2011   \n",
       "\n",
       "        Sex Value Lower Upper  \n",
       "120    Both  0.49  0.31  0.77  \n",
       "122  Female  0.50  0.31  0.78  \n",
       "124    Male  0.48  0.30  0.76  \n",
       "126    Both  0.42  0.27  0.67  \n",
       "128  Female  0.43  0.27  0.68  "
      ]
     },
     "execution_count": 31,
     "metadata": {},
     "output_type": "execute_result"
    }
   ],
   "source": [
    "indicators.drop(indicators.loc[indicators['Age']!='Age 0-14'].index, inplace=True)\n",
    "for i in range (1990, 2010):\n",
    "    indicators.drop(indicators.loc[indicators['Year']==i].index, inplace=True)\n",
    "    i+=1\n",
    "indicators.drop(\"UNICEF Region\", axis=1, inplace=True)\n",
    "indicators.drop(\"Data source\", axis=1, inplace=True)\n",
    "indicators.drop(\"Type\", axis=1, inplace=True)\n",
    "indicators.drop(\"ISO3\", axis=1, inplace=True)\n",
    "indicators.drop(\"Age\", axis=1, inplace=True)\n",
    "#indicators.to_csv(\"ReduceData.csv\", index=False, encoding='utf8')\n",
    "print(indicators.shape)\n",
    "indicators.head()"
   ]
  },
  {
   "cell_type": "markdown",
   "metadata": {},
   "source": [
    "To have the data more separated, we divided this new csv file into two:\n",
    "- AnnualDeaths.csv  (Estimated number of annual AIDS-related deaths of children 0-14 depending on country, sex and year (2010-2019))\n",
    "- AnnualNewInfections.csv   (Estimated number of annual new HIV infections of children 0-14 depending on country, sex and year(2010-2019))"
   ]
  },
  {
   "cell_type": "code",
   "execution_count": 32,
   "metadata": {},
   "outputs": [],
   "source": [
    "reduce=pd.read_csv(\"ReduceData.csv\" ,sep=\",\", encoding='latin-1', )\n",
    "reduce.drop(reduce.loc[reduce['Indicator']!='Estimated number of annual AIDS-related deaths'].index, inplace=True)\n",
    "#reduce.to_csv(\"AnnualDeaths.csv\", index=False, encoding='utf8')"
   ]
  },
  {
   "cell_type": "code",
   "execution_count": 33,
   "metadata": {},
   "outputs": [],
   "source": [
    "reduce=pd.read_csv(\"ReduceData.csv\" ,sep=\",\", encoding='latin-1', )\n",
    "reduce.drop(reduce.loc[reduce['Indicator']!='Estimated number of annual new HIV infections'].index, inplace=True)\n",
    "#reduce.to_csv(\"AnnualNewInfections.csv\", index=False, encoding='utf8')"
   ]
  },
  {
   "cell_type": "markdown",
   "metadata": {},
   "source": [
    "<h1>Deaths</h1>"
   ]
  },
  {
   "cell_type": "code",
   "execution_count": 34,
   "metadata": {},
   "outputs": [
    {
     "name": "stdout",
     "output_type": "stream",
     "text": [
      "(2970, 6)\n"
     ]
    },
    {
     "data": {
      "text/html": [
       "<div>\n",
       "<style scoped>\n",
       "    .dataframe tbody tr th:only-of-type {\n",
       "        vertical-align: middle;\n",
       "    }\n",
       "\n",
       "    .dataframe tbody tr th {\n",
       "        vertical-align: top;\n",
       "    }\n",
       "\n",
       "    .dataframe thead th {\n",
       "        text-align: right;\n",
       "    }\n",
       "</style>\n",
       "<table border=\"1\" class=\"dataframe\">\n",
       "  <thead>\n",
       "    <tr style=\"text-align: right;\">\n",
       "      <th></th>\n",
       "      <th>Country/Region</th>\n",
       "      <th>Year</th>\n",
       "      <th>Sex</th>\n",
       "      <th>Value</th>\n",
       "      <th>Lower</th>\n",
       "      <th>Upper</th>\n",
       "    </tr>\n",
       "  </thead>\n",
       "  <tbody>\n",
       "    <tr>\n",
       "      <th>0</th>\n",
       "      <td>Global</td>\n",
       "      <td>2010</td>\n",
       "      <td>Both</td>\n",
       "      <td>220000</td>\n",
       "      <td>150000</td>\n",
       "      <td>360000</td>\n",
       "    </tr>\n",
       "    <tr>\n",
       "      <th>1</th>\n",
       "      <td>Global</td>\n",
       "      <td>2010</td>\n",
       "      <td>Female</td>\n",
       "      <td>110000</td>\n",
       "      <td>73000</td>\n",
       "      <td>180000</td>\n",
       "    </tr>\n",
       "    <tr>\n",
       "      <th>2</th>\n",
       "      <td>Global</td>\n",
       "      <td>2010</td>\n",
       "      <td>Male</td>\n",
       "      <td>110000</td>\n",
       "      <td>75000</td>\n",
       "      <td>180000</td>\n",
       "    </tr>\n",
       "    <tr>\n",
       "      <th>3</th>\n",
       "      <td>Global</td>\n",
       "      <td>2011</td>\n",
       "      <td>Both</td>\n",
       "      <td>200000</td>\n",
       "      <td>130000</td>\n",
       "      <td>330000</td>\n",
       "    </tr>\n",
       "    <tr>\n",
       "      <th>4</th>\n",
       "      <td>Global</td>\n",
       "      <td>2011</td>\n",
       "      <td>Female</td>\n",
       "      <td>97000</td>\n",
       "      <td>65000</td>\n",
       "      <td>160000</td>\n",
       "    </tr>\n",
       "  </tbody>\n",
       "</table>\n",
       "</div>"
      ],
      "text/plain": [
       "  Country/Region  Year     Sex   Value   Lower   Upper\n",
       "0         Global  2010    Both  220000  150000  360000\n",
       "1         Global  2010  Female  110000   73000  180000\n",
       "2         Global  2010    Male  110000   75000  180000\n",
       "3         Global  2011    Both  200000  130000  330000\n",
       "4         Global  2011  Female   97000   65000  160000"
      ]
     },
     "execution_count": 34,
     "metadata": {},
     "output_type": "execute_result"
    }
   ],
   "source": [
    "deaths=pd.read_csv(\"AnnualDeaths.csv\", sep=\",\", encoding='latin-1')\n",
    "deaths.drop(\"Indicator\", axis=1, inplace=True)\n",
    "print(deaths.shape)\n",
    "deaths.head()"
   ]
  },
  {
   "cell_type": "code",
   "execution_count": 36,
   "metadata": {},
   "outputs": [
    {
     "name": "stdout",
     "output_type": "stream",
     "text": [
      "bb\n"
     ]
    }
   ],
   "source": [
    "print(\"abb\"[1:])"
   ]
  },
  {
   "cell_type": "code",
   "execution_count": 37,
   "metadata": {},
   "outputs": [],
   "source": [
    "#SORRY FOR DISTROYING IT\n",
    "#converting data values to numeric, where applicable\n",
    "\n",
    "for i in range(len(deaths)):\n",
    "    #upper----------------------------------------------------------------------\n",
    "    if(\"<\" in str(deaths[\"Upper\"][i])):\n",
    "        deaths[\"Upper\"][i] = int(str(deaths[\"Upper\"][i])[1:])\n",
    "    else:\n",
    "        deaths[\"Upper\"][i] = int(deaths[\"Upper\"][i])\n",
    "        \n",
    "    #lower----------------------------------------------------------------------    \n",
    "    if(\"<\" in str(deaths[\"Lower\"][i])):\n",
    "        deaths[\"Lower\"][i] = int(str(deaths[\"Lower\"][i])[1:])\n",
    "    else:\n",
    "        deaths[\"Lower\"][i] = int(str(deaths[\"Lower\"][i]))\n",
    "        \n",
    "    #value----------------------------------------------------------------------    \n",
    "    if(\"<\" in str(deaths[\"Value\"][i])):\n",
    "        deaths[\"Value\"][i] = int(str(deaths[\"Value\"][i])[1:])\n",
    "    else:    \n",
    "        deaths[\"Value\"][i] = int(str(deaths[\"Value\"][i]))\n",
    "        \n",
    "    #fixing incompatible values (some values are substantially lower than they should be)\n",
    "    # (due to converting to csv)\n",
    "    \n",
    "        \n",
    "    #case 1: 'value' lower than 'lower' \n",
    "    while deaths[\"Value\"][i] < deaths[\"Lower\"][i]:\n",
    "        deaths[\"Value\"][i] *= 10\n",
    "    #case 2: 'upper' lower than 'lower'\n",
    "    while deaths[\"Upper\"][i] < deaths[\"Lower\"][i]:\n",
    "        deaths[\"Upper\"][i] *= 10\n",
    "    #case 3: 'upper' lower than 'value'\n",
    "    while deaths[\"Upper\"][i] < deaths[\"Value\"][i]:\n",
    "        deaths[\"Upper\"][i] *= 10\n"
   ]
  },
  {
   "cell_type": "code",
   "execution_count": 38,
   "metadata": {
    "scrolled": true
   },
   "outputs": [
    {
     "name": "stdout",
     "output_type": "stream",
     "text": [
      "     Male                Female               Both\n",
      "2855.4949494949497 | 2786.59595959596 | 5577.242424242424\n",
      "\n",
      "VALUE mean 3739.777777777778\n",
      "VALUE std 15645.526023698043\n",
      "\n",
      "UPPER mean 5897.3569023569025\n",
      "UPPER std 25705.3425225964\n",
      "\n",
      "LOWER mean 2524.7003367003367\n",
      "LOWER std 10549.752030072816\n",
      "\n"
     ]
    }
   ],
   "source": [
    "#getting the averages\n",
    "vals = deaths[\"Value\"]\n",
    "genders = deaths[\"Sex\"]\n",
    "\n",
    "total_M, count_M,total_F, count_F, total_B, count_B= 0,0,0,0,0,0\n",
    "\n",
    "i = 0\n",
    "for v in vals:\n",
    "    if genders[i] == \"Male\":\n",
    "        total_M += int(v)\n",
    "        count_M += 1\n",
    "    elif genders[i] == \"Female\":\n",
    "        total_F += int(v)\n",
    "        count_F += 1\n",
    "    else:\n",
    "        total_B += int(v)\n",
    "        count_B += 1\n",
    "    i+=1\n",
    "    \n",
    "print(\"     Male                Female               Both\")       \n",
    "print(str(total_M/count_M) + \" | \" + str(total_F/count_F) + \" | \" + str((total_B/count_B))+\"\\n\")\n",
    "\n",
    "print(\"VALUE mean \" + str(deaths[\"Value\"].mean()))\n",
    "print(\"VALUE std \" + str(deaths[\"Value\"].std())+\"\\n\")\n",
    "\n",
    "print(\"UPPER mean \"+str(deaths.Upper.mean()))\n",
    "print(\"UPPER std \" + str(deaths[\"Upper\"].std())+\"\\n\")\n",
    "\n",
    "print(\"LOWER mean \"+str(deaths.Lower.mean()))\n",
    "print(\"LOWER std \" + str(deaths[\"Lower\"].std())+\"\\n\")"
   ]
  },
  {
   "cell_type": "code",
   "execution_count": 39,
   "metadata": {},
   "outputs": [
    {
     "name": "stdout",
     "output_type": "stream",
     "text": [
      "0     220000\n",
      "3     200000\n",
      "6     180000\n",
      "9     160000\n",
      "12    140000\n",
      "15    130000\n",
      "18    120000\n",
      "21    110000\n",
      "24    100000\n",
      "27     95000\n",
      "Name: Value, dtype: object\n"
     ]
    },
    {
     "data": {
      "image/png": "[encoded data removed]",
      "text/plain": [
       "<Figure size 1080x360 with 1 Axes>"
      ]
     },
     "metadata": {
      "needs_background": "light"
     },
     "output_type": "display_data"
    }
   ],
   "source": [
    "b= deaths[(deaths[\"Country/Region\"] == \"Global\")]\n",
    "years=[2010,2011,2012,2013,2014,2015,2016,2017,2018,2019]\n",
    "y= b[(b[\"Sex\"] == \"Both\")][\"Value\"]\n",
    "plt.plot(years,y)\n",
    "plt.title(\"Annual deaths\")\n",
    "print(y)"
   ]
  },
  {
   "cell_type": "markdown",
   "metadata": {},
   "source": [
    "In this graph, we can see that fortunately the number of deaths caused by HIV are decreasing with the years.\n",
    "\n",
    "In 2010, there were 220000 children deaths and by 2019 this number has decreased to 95000."
   ]
  },
  {
   "cell_type": "code",
   "execution_count": 40,
   "metadata": {},
   "outputs": [
    {
     "data": {
      "image/png": "[encoded data removed]",
      "text/plain": [
       "<Figure size 1080x360 with 1 Axes>"
      ]
     },
     "metadata": {
      "needs_background": "light"
     },
     "output_type": "display_data"
    }
   ],
   "source": [
    "men = b[(b[\"Sex\"] == \"Male\")][\"Value\"]\n",
    "women= b[(b[\"Sex\"] == \"Female\")][\"Value\"]\n",
    "\n",
    "x = np.arange(len(years))  # the label locations\n",
    "width = 0.35  # the width of the bars\n",
    "\n",
    "fig, ax = plt.subplots()\n",
    "rects1 = ax.bar(x - width/2, men, width, label='Men', color='blue')\n",
    "rects2 = ax.bar(x + width/2, women, width, label='Women', color='pink')\n",
    "# Add some text for labels, title and custom x-axis tick labels, etc.\n",
    "ax.set_xlabel('Years')\n",
    "ax.set_ylabel('Deaths')\n",
    "ax.set_title('Annual deaths by HIV by year and gender')\n",
    "ax.set_xticks(x)\n",
    "ax.set_xticklabels(years)\n",
    "ax.legend()\n",
    "plt.show()"
   ]
  },
  {
   "cell_type": "markdown",
   "metadata": {},
   "source": [
    "From the previous graph, we can easily see how the number of deaths is a bit greater for boys than for girls."
   ]
  },
  {
   "cell_type": "code",
   "execution_count": null,
   "metadata": {},
   "outputs": [],
   "source": [
    "c= deaths[(deaths[\"Country/Region\"] == \"Kenya\")]\n",
    "\n",
    "men = c[(c[\"Sex\"] == \"Male\")][\"Value\"]\n",
    "women= c[(c[\"Sex\"] == \"Female\")][\"Value\"]\n",
    "fig, ax = plt.subplots()\n",
    "rects1 = ax.bar(x - width/2, men, width, label='Men', color='blue')\n",
    "rects2 = ax.bar(x + width/2, women, width, label='Women', color='pink')\n",
    "\n",
    "# Add some text for labels, title and custom x-axis tick labels, etc.\n",
    "ax.set_xlabel('Years')\n",
    "ax.set_xlabel('Infections')\n",
    "ax.set_title('Annual new infections by year and gender')\n",
    "ax.set_xticks(x)\n",
    "ax.set_xticklabels(years)\n",
    "ax.legend()\n",
    "plt.show()"
   ]
  },
  {
   "cell_type": "code",
   "execution_count": null,
   "metadata": {},
   "outputs": [],
   "source": [
    "print(women)"
   ]
  },
  {
   "cell_type": "markdown",
   "metadata": {},
   "source": [
    "In the previous graph, we showed the number of cases in Kenya, we can make the same graph with any country just changing the name of the country.\n",
    "\n",
    "NOTE: You will not find all the countries because many of them have no data or it is incomplete."
   ]
  },
  {
   "cell_type": "code",
   "execution_count": null,
   "metadata": {},
   "outputs": [],
   "source": [
    "from numpy import histogram as hist\n",
    "#hist(vals)\n",
    "#hist = deaths[:30][\"Value\"].hist(bins = 50)\n",
    "deaths[\"Value\"][:100].value_counts().sort_index().plot(kind=\"bar\")"
   ]
  },
  {
   "cell_type": "code",
   "execution_count": null,
   "metadata": {},
   "outputs": [],
   "source": [
    "print(\"deaths - upper/lower\")\n",
    "plt.rcParams['figure.figsize'] = [10, 10]\n",
    "sns.scatterplot('Upper', 'Lower', data=deaths, hue='Sex')\n",
    "plt.show()"
   ]
  },
  {
   "cell_type": "code",
   "execution_count": null,
   "metadata": {},
   "outputs": [],
   "source": [
    "countries = []\n",
    "values = []\n",
    "for country in deaths[\"Country/Region\"].unique():\n",
    "    avg, mean, count, total = 0,0,0,0\n",
    "    for i in range(len(deaths)):\n",
    "        if deaths[\"Country/Region\"][i] == country:\n",
    "            count += 1\n",
    "            total += deaths[\"Value\"][i]\n",
    "        \n",
    "    countries.append(country)\n",
    "    values.append(total/count)\n",
    "    #print(country+\": \"+str(total/count))\n",
    "            "
   ]
  },
  {
   "cell_type": "code",
   "execution_count": null,
   "metadata": {},
   "outputs": [],
   "source": [
    "#deaths.plot(x=\"Country/Region\",y='Value', kind='scatter')\n",
    "# this /\\ doesn't really have any kind of deduction-ready info\n",
    "\n",
    "#this, however, does\n",
    "plt.rcParams[\"figure.figsize\"] = [15, 5]\n",
    "df = pd.DataFrame({'country':countries, 'value':values})\n",
    "ax = df.sort_values(by=[\"value\"]).plot.bar(x='country', y='value', rot=90)"
   ]
  },
  {
   "cell_type": "markdown",
   "metadata": {},
   "source": [
    "<h1>Infections</h1>"
   ]
  },
  {
   "cell_type": "code",
   "execution_count": 27,
   "metadata": {},
   "outputs": [
    {
     "name": "stdout",
     "output_type": "stream",
     "text": [
      "(2940, 6)\n"
     ]
    },
    {
     "data": {
      "text/html": [
       "<div>\n",
       "<style scoped>\n",
       "    .dataframe tbody tr th:only-of-type {\n",
       "        vertical-align: middle;\n",
       "    }\n",
       "\n",
       "    .dataframe tbody tr th {\n",
       "        vertical-align: top;\n",
       "    }\n",
       "\n",
       "    .dataframe thead th {\n",
       "        text-align: right;\n",
       "    }\n",
       "</style>\n",
       "<table border=\"1\" class=\"dataframe\">\n",
       "  <thead>\n",
       "    <tr style=\"text-align: right;\">\n",
       "      <th></th>\n",
       "      <th>Country/Region</th>\n",
       "      <th>Year</th>\n",
       "      <th>Sex</th>\n",
       "      <th>Value</th>\n",
       "      <th>Lower</th>\n",
       "      <th>Upper</th>\n",
       "    </tr>\n",
       "  </thead>\n",
       "  <tbody>\n",
       "    <tr>\n",
       "      <th>0</th>\n",
       "      <td>Global</td>\n",
       "      <td>2010</td>\n",
       "      <td>Both</td>\n",
       "      <td>310000</td>\n",
       "      <td>200000</td>\n",
       "      <td>500000</td>\n",
       "    </tr>\n",
       "    <tr>\n",
       "      <th>1</th>\n",
       "      <td>Global</td>\n",
       "      <td>2010</td>\n",
       "      <td>Female</td>\n",
       "      <td>150000</td>\n",
       "      <td>97000</td>\n",
       "      <td>240000</td>\n",
       "    </tr>\n",
       "    <tr>\n",
       "      <th>2</th>\n",
       "      <td>Global</td>\n",
       "      <td>2010</td>\n",
       "      <td>Male</td>\n",
       "      <td>160000</td>\n",
       "      <td>100000</td>\n",
       "      <td>250000</td>\n",
       "    </tr>\n",
       "    <tr>\n",
       "      <th>3</th>\n",
       "      <td>Global</td>\n",
       "      <td>2011</td>\n",
       "      <td>Both</td>\n",
       "      <td>270000</td>\n",
       "      <td>170000</td>\n",
       "      <td>430000</td>\n",
       "    </tr>\n",
       "    <tr>\n",
       "      <th>4</th>\n",
       "      <td>Global</td>\n",
       "      <td>2011</td>\n",
       "      <td>Female</td>\n",
       "      <td>130000</td>\n",
       "      <td>85000</td>\n",
       "      <td>210000</td>\n",
       "    </tr>\n",
       "  </tbody>\n",
       "</table>\n",
       "</div>"
      ],
      "text/plain": [
       "  Country/Region  Year     Sex   Value   Lower   Upper\n",
       "0         Global  2010    Both  310000  200000  500000\n",
       "1         Global  2010  Female  150000   97000  240000\n",
       "2         Global  2010    Male  160000  100000  250000\n",
       "3         Global  2011    Both  270000  170000  430000\n",
       "4         Global  2011  Female  130000   85000  210000"
      ]
     },
     "execution_count": 27,
     "metadata": {},
     "output_type": "execute_result"
    }
   ],
   "source": [
    "infections=pd.read_csv(\"AnnualNewInfections.csv\", sep=\",\", encoding='latin-1')\n",
    "infections.drop(\"Indicator\", axis=1, inplace=True)\n",
    "print(infections.shape)\n",
    "infections.head()"
   ]
  },
  {
   "cell_type": "code",
   "execution_count": null,
   "metadata": {},
   "outputs": [],
   "source": [
    "#converting data values to numeric, where applicable\n",
    "i = 0\n",
    "for val in infections[\"Value\"]:\n",
    "    try:\n",
    "        if int(val) < 30:\n",
    "            val = int(val)*1000\n",
    "        infections[\"Value\"][i] = int(val)\n",
    "    except ValueError:\n",
    "        #todo: compute mean by upper&lower, use for replacing values with \"<\"\n",
    "        if val.startswith(\"<\"):\n",
    "            infections[\"Value\"][i] = int(val[1:]) - 1 #remove \"<\" and deacrease by 1\n",
    "            #deaths[\"Value\"][i] = random.randint(0, int(val[1:]) - 1)\n",
    "        else:\n",
    "            infections[\"Value\"][i] = int(float(val.replace(\",\",\".\"))*100)\n",
    "            \n",
    "    i+=1\n",
    "#---------------------------upper---------------------------------\n",
    "i=0\n",
    "for val in infections[\"Upper\"]:\n",
    "    try:\n",
    "        if int(val) < 30:\n",
    "            val = int(val)*1000\n",
    "        infections[\"Upper\"][i] = int(val)\n",
    "    except ValueError:\n",
    "        if val.startswith(\"<\"):\n",
    "            infections[\"Upper\"][i] = int(val[1:]) - 1 #remove \"<\" and deacrease by 1\n",
    "        else:\n",
    "            infections[\"Upper\"][i] = int(float(val.replace(\",\",\".\"))*100)\n",
    "        \n",
    "    i+=1\n",
    "#---------------------------lower--------------------------------\n",
    "i=0\n",
    "for val in infections[\"Lower\"]:\n",
    "    try:\n",
    "        if int(val) < 30:\n",
    "            val = int(val)*1000\n",
    "        infections[\"Lower\"][i] = int(val)\n",
    "    except ValueError:\n",
    "        #todo: compute mean by upper&lower, use for replacing values with \"<\"\n",
    "        if val.startswith(\"<\"):\n",
    "            infections[\"Lower\"][i] = int(val[1:]) - 1 #remove \"<\" and deacrease by 1\n",
    "        else:\n",
    "            infections[\"Lower\"][i] = int(float(val.replace(\",\",\".\"))*100)\n",
    "            \n",
    "    i+=1\n",
    "\n",
    "#-------------------------fixing false values----------------------------------------\n",
    "for v in range(len(infections)):\n",
    "    if infections[\"Value\"][v] < infections[\"Lower\"][v] or infections[\"Value\"][v]*10 < infections[\"Upper\"][v]:\n",
    "        infections[\"Value\"][v] = infections[\"Value\"][v] * 10\n",
    "    if infections[\"Upper\"][v] < infections[\"Lower\"][v] or infections[\"Upper\"][v] < infections[\"Value\"][v]:\n",
    "        infections[\"Upper\"][v] = infections[\"Upper\"][v] * 10\n",
    "    if infections[\"Lower\"][v]*10 < infections[\"Value\"][v] or infections[\"Lower\"][v]*10 < infections[\"Upper\"][v]:\n",
    "        infections[\"Lower\"][v] = infections[\"Lower\"][v] * 10\n",
    "        \n",
    "#for some reason, this check is also needed\n",
    "for i in range(len(infections[\"Upper\"])):\n",
    "   #print(str(deaths[\"Upper\"][i]) + \" | \"+str(deaths[\"Lower\"][i]) +\" | \"+ str(deaths[\"Value\"][i]))\n",
    "    if infections[\"Lower\"][i] - infections[\"Upper\"][i] > 0:\n",
    "        infections[\"Upper\"][i] = infections[\"Upper\"][i]*10"
   ]
  },
  {
   "cell_type": "markdown",
   "metadata": {},
   "source": [
    "When we compare this dataset with the original one we realized that the values were divided by 1000 because when we saved the new csv, these numbers were with a comma and it took them as decimals. We solved it, as shown below."
   ]
  },
  {
   "cell_type": "code",
   "execution_count": null,
   "metadata": {},
   "outputs": [],
   "source": [
    "infections[\"Value\"] =infections[\"Value\"] * 1000\n",
    "infections[\"Lower\"] =infections[\"Lower\"] * 1000\n",
    "infections[\"Upper\"] =infections[\"Upper\"] * 1000\n",
    "infections.head()"
   ]
  },
  {
   "cell_type": "code",
   "execution_count": null,
   "metadata": {},
   "outputs": [],
   "source": [
    "b= infections[(infections[\"Country/Region\"] == \"Global\")]\n",
    "y= b[(b[\"Sex\"] == \"Both\")][\"Value\"]\n",
    "plt.plot(years,y)\n",
    "print(y)"
   ]
  },
  {
   "cell_type": "markdown",
   "metadata": {},
   "source": [
    "In this graph, we can see that fortunately the new total cases of HIV are decreasig with the years.\n",
    "\n",
    "In 2010, there were 310000 new cases and in 2019 only 150000, the number was reduced in half."
   ]
  },
  {
   "cell_type": "code",
   "execution_count": null,
   "metadata": {},
   "outputs": [],
   "source": [
    "men = b[(b[\"Sex\"] == \"Male\")][\"Value\"]\n",
    "women= b[(b[\"Sex\"] == \"Female\")][\"Value\"]\n",
    "fig, ax = plt.subplots()\n",
    "rects1 = ax.bar(x - width/2, men, width, label='Men', color='blue')\n",
    "rects2 = ax.bar(x + width/2, women, width, label='Women', color='pink')\n",
    "# Add some text for labels, title and custom x-axis tick labels, etc.\n",
    "ax.set_xlabel('Years')\n",
    "ax.set_ylabel('Infections')\n",
    "ax.set_title('Annual new infections by year and gender')\n",
    "ax.set_xticks(x)\n",
    "ax.set_xticklabels(years)\n",
    "ax.legend()\n",
    "plt.show()"
   ]
  },
  {
   "cell_type": "markdown",
   "metadata": {},
   "source": [
    "From the previous graph, we can easily see how the number new cases of HIV of children is a bit greater for boys than for girls."
   ]
  },
  {
   "cell_type": "code",
   "execution_count": null,
   "metadata": {},
   "outputs": [],
   "source": [
    "c= infections[(infections[\"Country/Region\"] == \"Kenya\")]\n",
    "\n",
    "men = c[(c[\"Sex\"] == \"Male\")][\"Value\"]\n",
    "women= c[(c[\"Sex\"] == \"Female\")][\"Value\"]\n",
    "fig, ax = plt.subplots()\n",
    "rects1 = ax.bar(x - width/2, men, width, label='Men', color='blue')\n",
    "rects2 = ax.bar(x + width/2, women, width, label='Women', color='pink')\n",
    "\n",
    "# Add some text for labels, title and custom x-axis tick labels, etc.\n",
    "ax.set_xlabel('Years')\n",
    "ax.set_xlabel('Infections')\n",
    "ax.set_title('Annual new infections by year and gender')\n",
    "ax.set_xticks(x)\n",
    "ax.set_xticklabels(years)\n",
    "ax.legend()\n",
    "plt.show()"
   ]
  },
  {
   "cell_type": "markdown",
   "metadata": {},
   "source": [
    "In the previous graph, we showed the number of cases in Kenya, we can make the same graph with any country just changing the name of the country.\n",
    "\n",
    "NOTE: You will not find all the countries because many of them have no data or it is incomplete."
   ]
  },
  {
   "cell_type": "code",
   "execution_count": null,
   "metadata": {},
   "outputs": [],
   "source": [
    "print(\"infections - upper/lower\")\n",
    "plt.rcParams['figure.figsize'] = [10, 10]\n",
    "sns.scatterplot('Upper', 'Lower', data=infections, hue='Sex')\n",
    "plt.show()"
   ]
  },
  {
   "cell_type": "code",
   "execution_count": null,
   "metadata": {},
   "outputs": [],
   "source": [
    "countries = []\n",
    "values = []\n",
    "for country in infections[\"Country/Region\"].unique():\n",
    "    avg, mean, count, total = 0,0,0,0\n",
    "    for i in range(len(infections)):\n",
    "        if infections[\"Country/Region\"][i] == country:\n",
    "            count += 1\n",
    "            total += infections[\"Value\"][i]\n",
    "        \n",
    "    countries.append(country)\n",
    "    values.append(total/count)"
   ]
  },
  {
   "cell_type": "code",
   "execution_count": null,
   "metadata": {},
   "outputs": [],
   "source": [
    "plt.rcParams[\"figure.figsize\"] = [15, 5]\n",
    "df = pd.DataFrame({'country':countries, 'value':values})\n",
    "ax = df.sort_values(by=[\"value\"]).plot.bar(x='country', y='value', rot=90) #rotation to see the labels"
   ]
  },
  {
   "cell_type": "markdown",
   "metadata": {},
   "source": [
    "<h1>Treatments</h1>"
   ]
  },
  {
   "cell_type": "markdown",
   "metadata": {},
   "source": [
    "Our second UNICEF dataset contained the percentage and the numbers of children(0-14 years) with HIV receiving ART treatment. In this dataset we had different indicators, some of them were the number of children, and the other ones were represented\n",
    "by percentage. So we realized we couldn´t mix the values to get good results. To solve this problem we joined data as shown below. In this way, we simplify a lot the original data due to most of the information was twice. "
   ]
  },
  {
   "cell_type": "code",
   "execution_count": null,
   "metadata": {},
   "outputs": [],
   "source": [
    "treatments=pd.read_csv(\"Treatment.csv\", sep=\";\", encoding='latin-1')\n",
    "print(treatments.shape)\n",
    "treatments.head()"
   ]
  },
  {
   "cell_type": "code",
   "execution_count": null,
   "metadata": {},
   "outputs": [],
   "source": [
    "country = \"Afghanistan\"\n",
    "c= treatments[(treatments[\"Country\"] == country)]\n",
    "plt.xlabel('Years')\n",
    "plt.ylabel('Percentages of cases with treatment')\n",
    "plt.title(\"HIV treatment efforts in \" + country)\n",
    "plt.bar(years, height= c[\"Percentage\"] , width=0.8, bottom=None, align='center', color=\"purple\")"
   ]
  },
  {
   "cell_type": "code",
   "execution_count": null,
   "metadata": {},
   "outputs": [],
   "source": [
    "plt.xlabel('Years')\n",
    "plt.ylabel('Number of treatments')\n",
    "plt.title(\"Number of treatments in \" + country)\n",
    "plt.bar(years, height= c[\"Number\"] , width=0.8, bottom=None, align='center', color = \"green\")"
   ]
  },
  {
   "cell_type": "markdown",
   "metadata": {},
   "source": [
    "We can see how the number of treatments are increasing with the years as well as the percentages of cases covered. We can analyze different countries just changing the name of the country."
   ]
  },
  {
   "cell_type": "code",
   "execution_count": null,
   "metadata": {},
   "outputs": [],
   "source": [
    "# Want to make a similar graph to the 'HIV treatment efforts in <country>', but with all the countries together: \n",
    "# so every year is plotted against the average of treatment percentages in all countries\n",
    "\n",
    "# c= treatments[(treatments[\"Country\"] == country)]\n",
    "# plt.xlabel('Years')\n",
    "# plt.ylabel('Percentages of cases with treatment')\n",
    "# plt.title(\"HIV treatment efforts in \" + country)\n",
    "# plt.bar(years, height= c[\"Percentage\"] , width=0.8, bottom=None, align='center', color=\"purple\")"
   ]
  },
  {
   "cell_type": "markdown",
   "metadata": {},
   "source": [
    "<h1>NB! currently using just random.randint/uniform ,need more elegant solution!</h1>"
   ]
  },
  {
   "cell_type": "code",
   "execution_count": null,
   "metadata": {},
   "outputs": [],
   "source": [
    "#random.uniform(start, stop): returns float between start and stop\n",
    "\n",
    "#for every row\n",
    "for i in range(len(treatments)):\n",
    "     #upper\n",
    "    upper = treatments[\"Upper\"][i]\n",
    "    #in this case, only \"<1\":\n",
    "    if str(upper).startswith(\"<\"):\n",
    "        treatments[\"Upper\"][i] = random.uniform(0.5,float(upper[1:])) #random from 0.5 to value (aka 1)\n",
    "    #in this case, only \">95\":\n",
    "    elif str(upper).startswith(\">\"):\n",
    "        treatments[\"Upper\"][i] = random.uniform(float(upper[1:]), 100) #random from value(aka 95) to \n",
    "    else:\n",
    "        treatments[\"Upper\"][i] = float(treatments[\"Upper\"][i])\n",
    "        \n",
    "    \n",
    "    #lower\n",
    "    lower = treatments[\"Lower\"][i]\n",
    "    if str(lower).startswith(\"<\"): #aka <1:\n",
    "        treatments[\"Lower\"][i] = random.uniform(0,0.5) #random from 0 to 0.5 \n",
    "    elif str(lower).startswith(\">\"):\n",
    "        treatments[\"Lower\"][i] = random.uniform(float(lower[1:]), treatments[\"Upper\"][i]) #random from value to upper (cant be higher than upper!)\n",
    "    else:\n",
    "        treatments[\"Lower\"][i] = float(treatments[\"Lower\"][i])\n",
    "        \n",
    "    #percentage\n",
    "    percentage = treatments[\"Percentage\"][i]\n",
    "    if str(percentage).startswith(\"<\") or str(percentage).startswith(\">\") : #aka <1 or >95\n",
    "        treatments[\"Percentage\"][i] = random.uniform(treatments[\"Lower\"][i], treatments[\"Upper\"][i]) #random from lower to higher\n",
    "    else:\n",
    "        treatments[\"Percentage\"][i] = float(treatments[\"Percentage\"][i])\n",
    "    \n",
    "    \n",
    "    #print(str(treatments[\"Percentage\"][i]) + \" | \"+ str(treatments[\"Lower\"][i]) + \" | \"+str(treatments[\"Upper\"][i]))\n",
    "    "
   ]
  },
  {
   "cell_type": "code",
   "execution_count": null,
   "metadata": {},
   "outputs": [],
   "source": [
    "#treatments- graphing\n",
    "print(\"infections - upper/lower\")\n",
    "plt.rcParams['figure.figsize'] = [10, 10]\n",
    "sns.scatterplot('Upper', 'Lower', data=treatments, hue='Region')\n",
    "plt.title('Infections by  - upper and lower bounds')\n",
    "plt.show()"
   ]
  },
  {
   "cell_type": "code",
   "execution_count": null,
   "metadata": {},
   "outputs": [],
   "source": [
    "#treatments.plot(x=\"Region\",y='Upper', kind='scatter') #almost unreadable"
   ]
  },
  {
   "cell_type": "markdown",
   "metadata": {},
   "source": [
    "Finally, we separated one dataset to get one with analysis divided in 7 UNICEF regions. These regions are: Eastern and Southern Africa, Sub-Saharan Africa, East and North Africa, Latin America and Caribbean, Middle  South Asia, East Asia and Pacific, West and Central Africa with values of years from 2010-2019."
   ]
  },
  {
   "cell_type": "code",
   "execution_count": null,
   "metadata": {},
   "outputs": [],
   "source": [
    "regions=pd.read_csv(\"Global.csv\", sep=\";\", encoding='latin-1', header=None, names= [\"Region\",\"Year\",\"Percentage\",\"Lower\",\"Upper\", \"Number\"])\n",
    "print(regions.shape)\n",
    "print(regions.head())"
   ]
  },
  {
   "cell_type": "code",
   "execution_count": null,
   "metadata": {},
   "outputs": [],
   "source": [
    "#converting neccesary values to numeric\n",
    "\n",
    "#some values are still in the shape of \">95\"\n",
    "for i in range(len(regions)):\n",
    "    #upper\n",
    "    if str(regions[\"Upper\"][i]).startswith(\">\"):\n",
    "        regions[\"Upper\"][i] = float(regions[\"Upper\"][i][1:])\n",
    "    else:\n",
    "        regions[\"Upper\"][i] = float(regions[\"Upper\"][i])\n",
    "        \n",
    "    #percentage\n",
    "    regions[\"Percentage\"][i] = float(regions[\"Percentage\"][i])\n",
    "    \n",
    "    #lower\n",
    "    regions[\"Lower\"][i] = float(regions[\"Lower\"][i])\n",
    "    \n",
    "    #number\n",
    "    regions[\"Number\"][i] = int(regions[\"Number\"][i])"
   ]
  },
  {
   "cell_type": "code",
   "execution_count": null,
   "metadata": {},
   "outputs": [],
   "source": [
    "c= regions[(regions[\"Region\"] == \"Global\")]\n",
    "\n",
    "fig, axs = plt.subplots(4, 2)\n",
    "axs[0, 0].bar(years, height= regions[(regions[\"Region\"] == \"East Asia and Pacific\")][\"Number\"] , width=0.8, bottom=None, align='center', color = \"green\")\n",
    "axs[0, 0].set_title(\"East Asia and Pacific\")\n",
    "axs[0, 1].bar(years, height= regions[(regions[\"Region\"] == \"Eastern and Southern Africa\")][\"Number\"] , width=0.8, bottom=None, align='center', color = \"green\")\n",
    "axs[0, 1].set_title(\"Eastern and Southern Africa\")\n",
    "axs[1, 0].bar(years, height= regions[(regions[\"Region\"] == \"Latin America and Caribbean\")][\"Number\"] , width=0.8, bottom=None, align='center', color = \"green\")\n",
    "axs[1, 0].set_title(\"Latin America and Caribbean\")\n",
    "axs[1, 1].bar(years, height= regions[(regions[\"Region\"] == \"Middle East and North Africa\")][\"Number\"] , width=0.8, bottom=None, align='center', color = \"green\")\n",
    "axs[1, 1].set_title(\"Middle East and North Africa\")\n",
    "axs[2, 0].bar(years, height= regions[(regions[\"Region\"] == \"South Asia\")][\"Number\"] , width=0.8, bottom=None, align='center', color = \"green\")\n",
    "axs[2, 0].set_title(\"South Asia\")\n",
    "axs[2, 1].bar(years, height= regions[(regions[\"Region\"] == \"Sub-Saharan Africa\")][\"Number\"] , width=0.8, bottom=None, align='center', color = \"green\")\n",
    "axs[2, 1].set_title(\"Sub-Saharan Africa\")\n",
    "axs[3, 0].bar(years, height= regions[(regions[\"Region\"] == \"West and Central Africa\")][\"Number\"] , width=0.8, bottom=None, align='center', color = \"green\")\n",
    "axs[3, 0].set_title(\"West and Central Africa\")\n",
    "axs[3, 1].bar(years, height= regions[(regions[\"Region\"] == \"Global\")][\"Number\"] , width=0.8, bottom=None, align='center', color = \"green\")\n",
    "axs[3, 1].set_title(\"Global\")\n",
    "axs[0,0].set_xlabel(\"East Asia and Pacific\")\n",
    "\n",
    "\n",
    "for ax in axs.flat:\n",
    "    ax.set(xlabel='', ylabel='Number')\n",
    "# Hide x labels and tick labels for top plots and y ticks for right plots.\n",
    "\n",
    "fig.tight_layout()\n"
   ]
  },
  {
   "cell_type": "markdown",
   "metadata": {},
   "source": [
    "TODO: IN THE PREVIOUS GRAPH WE CAN REMOVE BOTH AXIS VALUES, HOWEVER Y VALUES AREN´T THE SAME. I DON´T KNOW HOW TO REMOVE ONLY X AXIS."
   ]
  },
  {
   "cell_type": "markdown",
   "metadata": {},
   "source": [
    "In the graphs before ..... fill it when previous part is solved"
   ]
  },
  {
   "cell_type": "code",
   "execution_count": null,
   "metadata": {},
   "outputs": [],
   "source": [
    "c= regions[(regions[\"Region\"] == \"Global\")]\n",
    "\n",
    "fig, axs = plt.subplots(4, 2)\n",
    "axs[0, 0].bar(years, height= regions[(regions[\"Region\"] == \"East Asia and Pacific\")][\"Percentage\"] , width=0.8, bottom=None, align='center', color = \"purple\")\n",
    "axs[0, 0].set_title(\"East Asia and Pacific\")\n",
    "axs[0, 1].bar(years, height= regions[(regions[\"Region\"] == \"Eastern and Southern Africa\")][\"Percentage\"] , width=0.8, bottom=None, align='center', color = \"purple\")\n",
    "axs[0, 1].set_title(\"Eastern and Southern Africa\")\n",
    "axs[1, 0].bar(years, height= regions[(regions[\"Region\"] == \"Latin America and Caribbean\")][\"Percentage\"] , width=0.8, bottom=None, align='center', color = \"purple\")\n",
    "axs[1, 0].set_title(\"Latin America and Caribbean\")\n",
    "axs[1, 1].bar(years, height= regions[(regions[\"Region\"] == \"Middle East and North Africa\")][\"Percentage\"] , width=0.8, bottom=None, align='center', color = \"purple\")\n",
    "axs[1, 1].set_title(\"Middle East and North Africa\")\n",
    "axs[2, 0].bar(years, height= regions[(regions[\"Region\"] == \"South Asia\")][\"Number\"] , width=0.8, bottom=None, align='center', color = \"purple\")\n",
    "axs[2, 0].set_title(\"South Asia\")\n",
    "axs[2, 1].bar(years, height= regions[(regions[\"Region\"] == \"Sub-Saharan Africa\")][\"Percentage\"] , width=0.8, bottom=None, align='center', color = \"purple\")\n",
    "axs[2, 1].set_title(\"Sub-Saharan Africa\")\n",
    "axs[3, 0].bar(years, height= regions[(regions[\"Region\"] == \"West and Central Africa\")][\"Percentage\"] , width=0.8, bottom=None, align='center', color = \"purple\")\n",
    "axs[3, 0].set_title(\"West and Central Africa\")\n",
    "axs[3, 1].bar(years, height= regions[(regions[\"Region\"] == \"Global\")][\"Percentage\"] , width=0.8, bottom=None, align='center', color = \"purple\")\n",
    "axs[3, 1].set_title(\"Global\")\n",
    "\n",
    "\n",
    "for ax in axs.flat:\n",
    "    ax.set(xlabel='Years', ylabel='Percentage')\n",
    "# Hide x labels and tick labels for top plots and y ticks for right plots.\n",
    "for ax in axs.flat:\n",
    "    ax.label_outer()"
   ]
  },
  {
   "cell_type": "code",
   "execution_count": null,
   "metadata": {},
   "outputs": [],
   "source": [
    "#still need to work on that graph\n",
    "plt.rcParams['figure.figsize'] = [10, 10]\n",
    "sns.scatterplot('Upper', 'Lower', data=regions, hue='Region')\n",
    "plt.show()"
   ]
  },
  {
   "cell_type": "markdown",
   "metadata": {},
   "source": [
    "<center> Thank you </center>"
   ]
  },
  {
   "cell_type": "markdown",
   "metadata": {},
   "source": [
    "<h1>Using ML methods to predict the count of new infections for the next year.</h1>"
   ]
  },
  {
   "cell_type": "markdown",
   "metadata": {},
   "source": [
    "For this task, we will use AnnualNewInfections.csv.\n",
    "We need to split the data into training and testing sets and then train a classifier to make predictions about the next year."
   ]
  },
  {
   "cell_type": "markdown",
   "metadata": {},
   "source": [
    "We could use years as features and values as labels. The accuracies I have gotten so far are not very good but I don't know why."
   ]
  },
  {
   "cell_type": "code",
   "execution_count": null,
   "metadata": {},
   "outputs": [],
   "source": [
    "import pandas as pd\n",
    "from sklearn.model_selection import train_test_split\n",
    "\n",
    "infections=pd.read_csv('AnnualNewInfections.csv', sep=',', encoding='latin-1')\n",
    "features = infections['Year']\n",
    "features = features.values.reshape(-1, 1)\n",
    "labels = infections['Value']\n",
    "X_train, X_test, y_train, y_test = train_test_split(features, labels, test_size=0.33, random_state=1)"
   ]
  },
  {
   "cell_type": "code",
   "execution_count": null,
   "metadata": {},
   "outputs": [],
   "source": [
    "from sklearn.ensemble import RandomForestClassifier\n",
    "\n",
    "clf = RandomForestClassifier(n_estimators=100, max_features=1)\n",
    "clf.fit(X_train, y_train)\n",
    "print(\"Score is\", clf.score(X_test, y_test))"
   ]
  }
 ],
 "metadata": {
  "kernelspec": {
   "display_name": "Python 3",
   "language": "python",
   "name": "python3"
  },
  "language_info": {
   "codemirror_mode": {
    "name": "ipython",
    "version": 3
   },
   "file_extension": ".py",
   "mimetype": "text/x-python",
   "name": "python",
   "nbconvert_exporter": "python",
   "pygments_lexer": "ipython3",
   "version": "3.8.3"
  }
 },
 "nbformat": 4,
 "nbformat_minor": 4
}
